{
 "cells": [
  {
   "cell_type": "markdown",
   "metadata": {},
   "source": [
    "# Importing libraries and defining text files"
   ]
  },
  {
   "cell_type": "code",
   "execution_count": null,
   "metadata": {
    "pycharm": {
     "name": "#%%\n"
    }
   },
   "outputs": [],
   "source": [
    "import pandas as pd\n",
    "from sklearn.feature_extraction.text import TfidfVectorizer\n",
    "from sklearn.feature_extraction.text import CountVectorizer\n",
    "from sklearn.metrics.pairwise import cosine_similarity"
   ]
  },
  {
   "cell_type": "markdown",
   "metadata": {},
   "source": [
    "Defining files as variables and splitting the terms into bags of words"
   ]
  },
  {
   "cell_type": "code",
   "execution_count": 5,
   "metadata": {
    "pycharm": {
     "name": "#%%\n"
    }
   },
   "outputs": [],
   "source": [
    "file1 = open(\"Text Files/abstract_1_test\")\n",
    "file2 = open(\"Text Files/abstract_2_test\")\n",
    "file3 = open(\"Text Files/abstract_3_test\")\n",
    "file1_data = file1.read()\n",
    "file2_data = file2.read()\n",
    "file3_data = file3.read()\n",
    "\n",
    "bagOfWords1 = file1_data.split(' ')\n",
    "bagOfWords2 = file2_data.split(' ')\n",
    "bagOfWords3 = file3_data.split(' ')"
   ]
  },
  {
   "cell_type": "markdown",
   "metadata": {},
   "source": [
    "We combine the common words using the union method to eliminate repetitions and consider them as unique words"
   ]
  },
  {
   "cell_type": "code",
   "execution_count": 6,
   "metadata": {
    "pycharm": {
     "name": "#%%\n"
    }
   },
   "outputs": [
    {
     "name": "stdout",
     "output_type": "stream",
     "text": [
      "{'of', 'system', 'research', 'B.', 'optimization', 'through', 'Stochastic', '6m.', 'adopted', '(SBC).', 'integrated', 'between', 'quickly', 'trap', 'weight', 'rates.', 'by', 'Descent', 'purposes.', '320x240', \"ANN's\", 'DBN-Adam', 'neural', '100', 'each', '(ANN),', 'raspberry', 'be', '1,618', 'can', 'forecast', 'as', 'MAE', 'structure', 'Mixture', 'carried', 'maintaining', 'test', 'level', 'DBN-SGD', 'parameter.', 'RMSE', 'connections,', 'while', 'have', 'point', 'response', 'determining', 'determined', 'pi', 'on', '(SGD)', 'Computer', 'pixel', 'development,', 'camera', 'online', '3', 'show', 'approach', '/', 'compared', 'observe', 'reach', 'improve', '59.0635004,', 'able', 'detect', 'On', 'k', 'room', 'networks', 'evaluation', 'evaluate', 'and', 'four', 'life', 'Camera', 'exchange', 'far', 'DBN', '(DBN)', 'proposed', '46.406739,', 'Board', 'distance', '=', 'local', 'artificial', 'out', '0.34652.', 'seconds.', 'language', 'Network', 'long', 'Adam', 'its', 'such', 'process', 'second', 'rate', '(RBM)', 'MAPE', 'was', 'will', 'data', 'Python', 'are', 'frame', 'Restricted', 'currently', 'animals', 'learning', 'programming', 'images', 'result', 'convergent,', 'One', 'is', 'traps', 'The', 'often', '11', 'USB', 'motion', 'OpenCV', 'Tests', 'still', 'to', 'resolution.', 'uploading', 'research,', 'various', 'performed', 'animal', 'Machine', 'improvement.', 'quickly,', 'accuracy', 'composed', 'time', 'initial', 'where', 'results', 'also', 'Deep', '80,3%,', 'detection', 'used', 'API.', 'Gradient', 'systems.', 'but', 'this', 'videos,', 'create', 'IDR', 'ANNs', 'image', 'value', 'forecasting', 'convergence', 'stochastic', 'applied', 'daily', 'an', 'that', 'model.', 'accelerate', 'uploaded', 'using', '(MOG).', 'threshold', 'a', 'USD', 'because', 'In', 'has', 'achieve', 'stack.', 'per', 'average', 'criteria', 'objects', 'best', 'gained', 'performance', 'Single', 'method', '13,', 'development', 'minimum', 'method.', 'use', 'library.', '0,098', 'problems.', 'other', 'ability', 'Belief', 'maximum', 'with', 'produces', 'methods', 'in', 'good', 'the', 'it', 'experiments.', 'outperform', 'seconds,', 'Boltzmann', 'dropbox', 'for', 'model', 'problems', 'Gaussian', 'form', 'optimally'}\n"
     ]
    }
   ],
   "source": [
    "uniqueWords = set(bagOfWords1).union(set(bagOfWords2)).union(set(bagOfWords3))\n",
    "print(uniqueWords)"
   ]
  },
  {
   "cell_type": "markdown",
   "metadata": {},
   "source": [
    "For each unique words, we traverse through the bag of words to find the frequency of the terms between the two documents"
   ]
  },
  {
   "cell_type": "code",
   "execution_count": 48,
   "metadata": {
    "pycharm": {
     "name": "#%%\n"
    }
   },
   "outputs": [],
   "source": [
    "numOfWords1 = dict.fromkeys(uniqueWords, 0)\n",
    "for word in bagOfWords1:\n",
    "    numOfWords1[word] += 1\n",
    "numOfWords2 = dict.fromkeys(uniqueWords, 0)\n",
    "for word in bagOfWords2:\n",
    "    numOfWords2[word] += 1\n",
    "numOfWords3 = dict.fromkeys(uniqueWords, 0)\n",
    "for word in bagOfWords3:\n",
    "    numOfWords3[word] += 1"
   ]
  },
  {
   "cell_type": "markdown",
   "metadata": {},
   "source": [
    "Printing the frequency of the terms"
   ]
  },
  {
   "cell_type": "code",
   "execution_count": 49,
   "metadata": {
    "pycharm": {
     "name": "#%%\n"
    }
   },
   "outputs": [
    {
     "name": "stdout",
     "output_type": "stream",
     "text": [
      "{'DBN-Adam': 0, 'stored': 0, 'admin': 0, '3': 1, 'by': 1, 'exchange': 0, 'permissions': 0, 'room': 1, 'experiments.': 0, 'rule-base': 0, 'developed': 0, 'best': 2, 'used': 6, 'developing': 0, 'this': 2, 'Therefore,': 0, 'networks': 0, 'OpenCV': 1, 'uploading': 1, 'quickly,': 0, 'questions': 0, 'RMSE': 0, 'program': 0, 'videos,': 1, 'MAE': 0, 'development': 2, 'also': 0, 'programming': 1, 'objects': 1, 'specific': 0, 'USB': 2, 'research': 1, 'question': 0, 'requirements.': 0, 'notifications': 0, 'to': 7, 'camera': 4, 'problem': 0, 'connect': 0, '(SGD)': 0, 'out': 0, 'USD': 0, 'its': 1, 'resolution.': 1, 'one': 0, 'natural': 0, 'about': 0, 'was': 1, 'integrated': 1, 'initial': 0, 'provides': 0, 'computer': 0, 'many': 0, 'network': 0, 'detection': 2, 'the': 10, 'conclusions': 0, 'use': 1, 'purposes.': 1, 'raspberry': 1, '320x240': 1, '95%.': 0, 'condition.': 0, 'but': 1, 'compared': 0, 'server': 0, 'focuses': 0, 'methods': 0, 'on': 1, 'This': 0, 'show': 2, 'model': 0, 'accuracy': 1, 'into': 0, '/': 0, 'problems': 0, 'needs': 0, 'development,': 1, 'Descent': 0, 'implements': 0, 'take': 0, 'more': 0, 'called': 0, 'Computer': 1, 'have': 1, 'notify': 0, 'Camera': 1, 'stochastic': 0, 'for': 4, 'between': 0, 'determined': 0, 'chatbot': 0, 'or': 0, 'processing': 0, 'if': 0, 'determining': 0, '59.0635004,': 0, '13,': 1, 'DBN-SGD': 0, 'Belief': 0, 'of': 8, 'In': 1, 'animals': 1, 'chatbot.': 0, 'outperform': 0, 'occur.': 0, 'Adam': 0, 'Indonesian.': 0, 'programs': 0, 'carried': 0, '46.406739,': 0, 'improvement.': 1, 'IDR': 0, 'answer': 0, 'each': 0, 'such': 0, 'language': 1, 'Deep': 0, 'motion': 3, 'learning': 0, 'level': 0, 'compiled': 0, 'good': 0, 'online': 1, 'response': 1, 'able': 0, 'DBN': 0, 'produces': 0, 'where': 0, '0,098': 1, 'functionality': 0, 'via': 0, 'using': 2, 'k': 1, 'MAPE': 0, 'device': 0, 'will': 1, 'Board': 2, 'monitoring': 0, 'answers.': 0, 'proposed': 0, '80,3%,': 1, 'gained': 2, '(MOG).': 1, 'far': 1, '(ANN),': 0, 'Network': 0, 'pixel': 1, 'seconds.': 1, 'traps': 1, 'time': 1, 'has': 2, 'reach': 0, 'Mixture': 1, 'still': 1, 'devices,': 0, 'API.': 1, 'as': 2, 'Tests': 0, 'evaluation': 0, '(DBN)': 0, 'and': 3, 'processed': 0, 'often': 0, 'with': 4, 'four': 0, 'local': 0, 'detect': 2, 'knowledge': 0, 'structure': 0, 'research,': 1, 'performed': 1, 'because': 0, 'optimally': 0, 'word': 0, 'Gradient': 0, 'results': 1, 'through': 0, 'method.': 0, 'B.': 1, 'system': 4, '=': 1, 'convergent,': 0, 'quickly': 0, '\\\\\"clients\\\\\".': 0, 'based': 0, 'The': 6, 'clients': 0, 'it': 0, 'notification': 0, 'weight': 0, 'an': 2, 'are': 0, 'model.': 0, 'various': 1, 'stack.': 0, 'adopted': 0, 'dropbox': 2, 'activity': 0, 'daily': 1, 'create': 1, 'ANNs': 0, 'classification': 0, 'resources': 0, 'process': 2, '6m.': 1, 'Single': 2, 'pi': 1, 'produce': 0, 'per': 1, 'Python': 1, 'maximum': 1, 'average': 2, 'library.': 1, 'frame': 1, 'connections,': 0, 'result': 2, 'minimum': 0, 'optimization': 0, 'achieve': 0, 'systems.': 1, 'value': 2, 'neural': 0, 'Restricted': 0, \"server's\": 0, 'seconds,': 1, 'forecast': 0, 'applied': 0, \"ANN's\": 0, 'long': 0, 'data': 0, 'can': 4, 'evaluate': 0, 'monitor': 0, 'any': 0, 'problems.': 0, 'is': 4, 'a': 0, 'send': 0, 'classifying': 0, '100': 1, 'computers': 0, 'uploaded': 1, 'convergence': 0, 'Then': 0, 'observe': 2, 'performance': 0, 'point': 0, 'images': 1, 'animal': 2, '1,618': 1, 'while': 1, 'understanding': 0, 'Gaussian': 1, 'rate': 0, '(token)': 0, 'distance': 1, 'error': 0, 'accelerate': 0, 'composed': 0, '0.34652.': 0, 'criteria': 0, '11': 1, 'Stochastic': 0, 'auto-notify': 0, 'approach': 0, 'currently': 1, 'ability': 0, 'artificial': 0, 'occurs': 0, 'parameter.': 0, 'other': 0, 'Machine': 0, 'threshold': 1, 'Generally,': 0, 'method': 1, 'test': 3, 'server,': 0, 'image': 2, 'in': 3, 'On': 1, 'be': 3, 'rates.': 0, '(SBC).': 1, 'One': 0, 'form': 1, 'life': 1, 'second': 1, 'ontology.': 0, 'improve': 0, 'forecasting': 0, 'that': 0, 'Boltzmann': 0, 'trap': 1, 'maintaining': 0, '(RBM)': 0}\n",
      "{'DBN-Adam': 2, 'stored': 0, 'admin': 0, '3': 0, 'by': 1, 'exchange': 2, 'permissions': 0, 'room': 0, 'experiments.': 1, 'rule-base': 0, 'developed': 0, 'best': 0, 'used': 1, 'developing': 0, 'this': 1, 'Therefore,': 0, 'networks': 1, 'OpenCV': 0, 'uploading': 0, 'quickly,': 1, 'questions': 0, 'RMSE': 1, 'program': 0, 'videos,': 0, 'MAE': 1, 'development': 0, 'also': 1, 'programming': 0, 'objects': 0, 'specific': 0, 'USB': 0, 'research': 0, 'question': 0, 'requirements.': 0, 'notifications': 0, 'to': 9, 'camera': 0, 'problem': 0, 'connect': 0, '(SGD)': 1, 'out': 1, 'USD': 1, 'its': 0, 'resolution.': 0, 'one': 0, 'natural': 0, 'about': 0, 'was': 0, 'integrated': 0, 'initial': 1, 'provides': 0, 'computer': 0, 'many': 0, 'network': 0, 'detection': 0, 'the': 6, 'conclusions': 0, 'use': 0, 'purposes.': 0, 'raspberry': 0, '320x240': 0, '95%.': 0, 'condition.': 0, 'but': 1, 'compared': 1, 'server': 0, 'focuses': 0, 'methods': 1, 'on': 1, 'This': 0, 'show': 0, 'model': 2, 'accuracy': 0, 'into': 0, '/': 1, 'problems': 1, 'needs': 0, 'development,': 0, 'Descent': 1, 'implements': 0, 'take': 0, 'more': 0, 'called': 0, 'Computer': 0, 'have': 1, 'notify': 0, 'Camera': 0, 'stochastic': 1, 'for': 1, 'between': 1, 'determined': 1, 'chatbot': 0, 'or': 0, 'processing': 0, 'if': 0, 'determining': 1, '59.0635004,': 1, '13,': 0, 'DBN-SGD': 1, 'Belief': 1, 'of': 4, 'In': 0, 'animals': 0, 'chatbot.': 0, 'outperform': 1, 'occur.': 0, 'Adam': 1, 'Indonesian.': 0, 'programs': 0, 'carried': 1, '46.406739,': 1, 'improvement.': 0, 'IDR': 1, 'answer': 0, 'each': 1, 'such': 1, 'language': 0, 'Deep': 1, 'motion': 0, 'learning': 2, 'level': 1, 'compiled': 0, 'good': 1, 'online': 0, 'response': 0, 'able': 3, 'DBN': 3, 'produces': 1, 'where': 1, '0,098': 0, 'functionality': 0, 'via': 0, 'using': 0, 'k': 0, 'MAPE': 1, 'device': 0, 'will': 0, 'Board': 0, 'monitoring': 0, 'answers.': 0, 'proposed': 2, '80,3%,': 0, 'gained': 0, '(MOG).': 0, 'far': 0, '(ANN),': 1, 'Network': 1, 'pixel': 0, 'seconds.': 0, 'traps': 0, 'time': 1, 'has': 0, 'reach': 2, 'Mixture': 0, 'still': 0, 'devices,': 0, 'API.': 0, 'as': 1, 'Tests': 1, 'evaluation': 1, '(DBN)': 1, 'and': 2, 'processed': 0, 'often': 1, 'with': 0, 'four': 1, 'local': 1, 'detect': 0, 'knowledge': 0, 'structure': 1, 'research,': 0, 'performed': 0, 'because': 1, 'optimally': 1, 'word': 0, 'Gradient': 1, 'results': 1, 'through': 1, 'method.': 1, 'B.': 0, 'system': 0, '=': 0, 'convergent,': 1, 'quickly': 1, '\\\\\"clients\\\\\".': 0, 'based': 0, 'The': 3, 'clients': 0, 'it': 1, 'notification': 0, 'weight': 1, 'an': 0, 'are': 2, 'model.': 1, 'various': 0, 'stack.': 1, 'adopted': 1, 'dropbox': 0, 'activity': 0, 'daily': 1, 'create': 0, 'ANNs': 1, 'classification': 0, 'resources': 0, 'process': 0, '6m.': 0, 'Single': 0, 'pi': 0, 'produce': 0, 'per': 0, 'Python': 0, 'maximum': 0, 'average': 0, 'library.': 0, 'frame': 0, 'connections,': 1, 'result': 1, 'minimum': 1, 'optimization': 1, 'achieve': 1, 'systems.': 0, 'value': 1, 'neural': 1, 'Restricted': 1, \"server's\": 0, 'seconds,': 0, 'forecast': 1, 'applied': 1, \"ANN's\": 1, 'long': 1, 'data': 1, 'can': 0, 'evaluate': 1, 'monitor': 0, 'any': 0, 'problems.': 1, 'is': 9, 'a': 2, 'send': 0, 'classifying': 0, '100': 0, 'computers': 0, 'uploaded': 0, 'convergence': 1, 'Then': 0, 'observe': 0, 'performance': 1, 'point': 1, 'images': 0, 'animal': 0, '1,618': 0, 'while': 0, 'understanding': 0, 'Gaussian': 0, 'rate': 1, '(token)': 0, 'distance': 0, 'error': 0, 'accelerate': 1, 'composed': 1, '0.34652.': 1, 'criteria': 1, '11': 0, 'Stochastic': 1, 'auto-notify': 0, 'approach': 1, 'currently': 0, 'ability': 1, 'artificial': 1, 'occurs': 0, 'parameter.': 1, 'other': 1, 'Machine': 1, 'threshold': 0, 'Generally,': 0, 'method': 1, 'test': 0, 'server,': 0, 'image': 0, 'in': 3, 'On': 0, 'be': 0, 'rates.': 1, '(SBC).': 0, 'One': 1, 'form': 0, 'life': 0, 'second': 0, 'ontology.': 0, 'improve': 1, 'forecasting': 1, 'that': 1, 'Boltzmann': 1, 'trap': 0, 'maintaining': 1, '(RBM)': 1}\n",
      "{'DBN-Adam': 0, 'stored': 1, 'admin': 2, '3': 0, 'by': 4, 'exchange': 0, 'permissions': 1, 'room': 0, 'experiments.': 0, 'rule-base': 1, 'developed': 3, 'best': 0, 'used': 1, 'developing': 1, 'this': 0, 'Therefore,': 1, 'networks': 0, 'OpenCV': 0, 'uploading': 0, 'quickly,': 0, 'questions': 3, 'RMSE': 0, 'program': 1, 'videos,': 0, 'MAE': 0, 'development': 0, 'also': 0, 'programming': 0, 'objects': 0, 'specific': 1, 'USB': 0, 'research': 1, 'question': 2, 'requirements.': 1, 'notifications': 1, 'to': 4, 'camera': 0, 'problem': 1, 'connect': 1, '(SGD)': 0, 'out': 0, 'USD': 0, 'its': 0, 'resolution.': 0, 'one': 1, 'natural': 1, 'about': 1, 'was': 0, 'integrated': 0, 'initial': 0, 'provides': 1, 'computer': 1, 'many': 1, 'network': 2, 'detection': 0, 'the': 9, 'conclusions': 1, 'use': 0, 'purposes.': 0, 'raspberry': 0, '320x240': 0, '95%.': 1, 'condition.': 1, 'but': 0, 'compared': 0, 'server': 4, 'focuses': 1, 'methods': 0, 'on': 2, 'This': 1, 'show': 1, 'model': 0, 'accuracy': 1, 'into': 1, '/': 0, 'problems': 1, 'needs': 1, 'development,': 0, 'Descent': 0, 'implements': 1, 'take': 1, 'more': 1, 'called': 1, 'Computer': 0, 'have': 1, 'notify': 1, 'Camera': 0, 'stochastic': 0, 'for': 2, 'between': 0, 'determined': 0, 'chatbot': 1, 'or': 3, 'processing': 1, 'if': 3, 'determining': 0, '59.0635004,': 0, '13,': 0, 'DBN-SGD': 0, 'Belief': 0, 'of': 1, 'In': 0, 'animals': 0, 'chatbot.': 1, 'outperform': 0, 'occur.': 1, 'Adam': 0, 'Indonesian.': 1, 'programs': 1, 'carried': 0, '46.406739,': 0, 'improvement.': 0, 'IDR': 0, 'answer': 4, 'each': 1, 'such': 0, 'language': 2, 'Deep': 0, 'motion': 0, 'learning': 0, 'level': 0, 'compiled': 1, 'good': 0, 'online': 0, 'response': 0, 'able': 0, 'DBN': 0, 'produces': 0, 'where': 0, '0,098': 0, 'functionality': 1, 'via': 1, 'using': 0, 'k': 0, 'MAPE': 0, 'device': 1, 'will': 0, 'Board': 0, 'monitoring': 3, 'answers.': 1, 'proposed': 0, '80,3%,': 0, 'gained': 0, '(MOG).': 0, 'far': 0, '(ANN),': 0, 'Network': 0, 'pixel': 0, 'seconds.': 0, 'traps': 0, 'time': 0, 'has': 0, 'reach': 0, 'Mixture': 0, 'still': 0, 'devices,': 1, 'API.': 0, 'as': 0, 'Tests': 0, 'evaluation': 0, '(DBN)': 0, 'and': 8, 'processed': 1, 'often': 0, 'with': 2, 'four': 0, 'local': 0, 'detect': 0, 'knowledge': 1, 'structure': 0, 'research,': 0, 'performed': 0, 'because': 0, 'optimally': 0, 'word': 1, 'Gradient': 0, 'results': 2, 'through': 1, 'method.': 0, 'B.': 0, 'system': 5, '=': 0, 'convergent,': 0, 'quickly': 0, '\\\\\"clients\\\\\".': 1, 'based': 1, 'The': 5, 'clients': 1, 'it': 0, 'notification': 1, 'weight': 0, 'an': 1, 'are': 1, 'model.': 0, 'various': 0, 'stack.': 0, 'adopted': 0, 'dropbox': 0, 'activity': 1, 'daily': 0, 'create': 0, 'ANNs': 0, 'classification': 1, 'resources': 1, 'process': 1, '6m.': 0, 'Single': 0, 'pi': 0, 'produce': 1, 'per': 0, 'Python': 0, 'maximum': 0, 'average': 0, 'library.': 0, 'frame': 0, 'connections,': 0, 'result': 0, 'minimum': 0, 'optimization': 0, 'achieve': 0, 'systems.': 0, 'value': 0, 'neural': 0, 'Restricted': 0, \"server's\": 1, 'seconds,': 0, 'forecast': 0, 'applied': 0, \"ANN's\": 0, 'long': 0, 'data': 1, 'can': 6, 'evaluate': 0, 'monitor': 1, 'any': 1, 'problems.': 0, 'is': 2, 'a': 5, 'send': 1, 'classifying': 1, '100': 0, 'computers': 1, 'uploaded': 0, 'convergence': 0, 'Then': 1, 'observe': 0, 'performance': 0, 'point': 0, 'images': 0, 'animal': 0, '1,618': 0, 'while': 0, 'understanding': 1, 'Gaussian': 0, 'rate': 0, '(token)': 1, 'distance': 0, 'error': 1, 'accelerate': 0, 'composed': 0, '0.34652.': 0, 'criteria': 0, '11': 0, 'Stochastic': 0, 'auto-notify': 1, 'approach': 0, 'currently': 0, 'ability': 0, 'artificial': 0, 'occurs': 1, 'parameter.': 0, 'other': 1, 'Machine': 0, 'threshold': 0, 'Generally,': 1, 'method': 0, 'test': 1, 'server,': 1, 'image': 0, 'in': 2, 'On': 0, 'be': 1, 'rates.': 0, '(SBC).': 0, 'One': 0, 'form': 0, 'life': 0, 'second': 0, 'ontology.': 1, 'improve': 0, 'forecasting': 0, 'that': 4, 'Boltzmann': 0, 'trap': 0, 'maintaining': 0, '(RBM)': 0}\n"
     ]
    }
   ],
   "source": [
    "print(numOfWords1)\n",
    "print(numOfWords2)\n",
    "print(numOfWords3)"
   ]
  },
  {
   "cell_type": "markdown",
   "metadata": {},
   "source": [
    "Importing NLTK libraries to eliminate stopwords (Examples shown below)"
   ]
  },
  {
   "cell_type": "code",
   "execution_count": 50,
   "metadata": {
    "pycharm": {
     "name": "#%%\n"
    }
   },
   "outputs": [
    {
     "data": {
      "text/plain": [
       "['i',\n",
       " 'me',\n",
       " 'my',\n",
       " 'myself',\n",
       " 'we',\n",
       " 'our',\n",
       " 'ours',\n",
       " 'ourselves',\n",
       " 'you',\n",
       " \"you're\",\n",
       " \"you've\",\n",
       " \"you'll\",\n",
       " \"you'd\",\n",
       " 'your',\n",
       " 'yours',\n",
       " 'yourself',\n",
       " 'yourselves',\n",
       " 'he',\n",
       " 'him',\n",
       " 'his',\n",
       " 'himself',\n",
       " 'she',\n",
       " \"she's\",\n",
       " 'her',\n",
       " 'hers',\n",
       " 'herself',\n",
       " 'it',\n",
       " \"it's\",\n",
       " 'its',\n",
       " 'itself',\n",
       " 'they',\n",
       " 'them',\n",
       " 'their',\n",
       " 'theirs',\n",
       " 'themselves',\n",
       " 'what',\n",
       " 'which',\n",
       " 'who',\n",
       " 'whom',\n",
       " 'this',\n",
       " 'that',\n",
       " \"that'll\",\n",
       " 'these',\n",
       " 'those',\n",
       " 'am',\n",
       " 'is',\n",
       " 'are',\n",
       " 'was',\n",
       " 'were',\n",
       " 'be',\n",
       " 'been',\n",
       " 'being',\n",
       " 'have',\n",
       " 'has',\n",
       " 'had',\n",
       " 'having',\n",
       " 'do',\n",
       " 'does',\n",
       " 'did',\n",
       " 'doing',\n",
       " 'a',\n",
       " 'an',\n",
       " 'the',\n",
       " 'and',\n",
       " 'but',\n",
       " 'if',\n",
       " 'or',\n",
       " 'because',\n",
       " 'as',\n",
       " 'until',\n",
       " 'while',\n",
       " 'of',\n",
       " 'at',\n",
       " 'by',\n",
       " 'for',\n",
       " 'with',\n",
       " 'about',\n",
       " 'against',\n",
       " 'between',\n",
       " 'into',\n",
       " 'through',\n",
       " 'during',\n",
       " 'before',\n",
       " 'after',\n",
       " 'above',\n",
       " 'below',\n",
       " 'to',\n",
       " 'from',\n",
       " 'up',\n",
       " 'down',\n",
       " 'in',\n",
       " 'out',\n",
       " 'on',\n",
       " 'off',\n",
       " 'over',\n",
       " 'under',\n",
       " 'again',\n",
       " 'further',\n",
       " 'then',\n",
       " 'once',\n",
       " 'here',\n",
       " 'there',\n",
       " 'when',\n",
       " 'where',\n",
       " 'why',\n",
       " 'how',\n",
       " 'all',\n",
       " 'any',\n",
       " 'both',\n",
       " 'each',\n",
       " 'few',\n",
       " 'more',\n",
       " 'most',\n",
       " 'other',\n",
       " 'some',\n",
       " 'such',\n",
       " 'no',\n",
       " 'nor',\n",
       " 'not',\n",
       " 'only',\n",
       " 'own',\n",
       " 'same',\n",
       " 'so',\n",
       " 'than',\n",
       " 'too',\n",
       " 'very',\n",
       " 's',\n",
       " 't',\n",
       " 'can',\n",
       " 'will',\n",
       " 'just',\n",
       " 'don',\n",
       " \"don't\",\n",
       " 'should',\n",
       " \"should've\",\n",
       " 'now',\n",
       " 'd',\n",
       " 'll',\n",
       " 'm',\n",
       " 'o',\n",
       " 're',\n",
       " 've',\n",
       " 'y',\n",
       " 'ain',\n",
       " 'aren',\n",
       " \"aren't\",\n",
       " 'couldn',\n",
       " \"couldn't\",\n",
       " 'didn',\n",
       " \"didn't\",\n",
       " 'doesn',\n",
       " \"doesn't\",\n",
       " 'hadn',\n",
       " \"hadn't\",\n",
       " 'hasn',\n",
       " \"hasn't\",\n",
       " 'haven',\n",
       " \"haven't\",\n",
       " 'isn',\n",
       " \"isn't\",\n",
       " 'ma',\n",
       " 'mightn',\n",
       " \"mightn't\",\n",
       " 'mustn',\n",
       " \"mustn't\",\n",
       " 'needn',\n",
       " \"needn't\",\n",
       " 'shan',\n",
       " \"shan't\",\n",
       " 'shouldn',\n",
       " \"shouldn't\",\n",
       " 'wasn',\n",
       " \"wasn't\",\n",
       " 'weren',\n",
       " \"weren't\",\n",
       " 'won',\n",
       " \"won't\",\n",
       " 'wouldn',\n",
       " \"wouldn't\"]"
      ]
     },
     "execution_count": 50,
     "metadata": {},
     "output_type": "execute_result"
    }
   ],
   "source": [
    "from nltk.corpus import stopwords\n",
    "stopwords.words('english')"
   ]
  },
  {
   "cell_type": "markdown",
   "metadata": {},
   "source": [
    "# Term frequency calculation"
   ]
  },
  {
   "cell_type": "markdown",
   "metadata": {},
   "source": [
    "To calculate the frequency of a term, we fetch the number of times the word appear in a document divided by the number of words in the document."
   ]
  },
  {
   "cell_type": "code",
   "execution_count": 10,
   "metadata": {
    "pycharm": {
     "name": "#%%\n"
    }
   },
   "outputs": [],
   "source": [
    "def tf(wordDict, bagOfWords):\n",
    "    tfDict = {}\n",
    "    bagOfWordsCount = len(bagOfWords)\n",
    "    for word, count in wordDict.items():\n",
    "        tfDict[word] = count / float(bagOfWordsCount)\n",
    "    return tfDict"
   ]
  },
  {
   "cell_type": "code",
   "execution_count": null,
   "metadata": {
    "pycharm": {
     "name": "#%%\n"
    }
   },
   "outputs": [],
   "source": [
    "tf1 = tf(numOfWords1, bagOfWords1)\n",
    "tf2 = tf(numOfWords2, bagOfWords2)\n",
    "tf3 = tf(numOfWords3, bagOfWords3)"
   ]
  },
  {
   "cell_type": "code",
   "execution_count": 51,
   "metadata": {
    "pycharm": {
     "name": "#%%\n"
    }
   },
   "outputs": [
    {
     "name": "stdout",
     "output_type": "stream",
     "text": [
      "{'DBN-Adam': 0.0, 'stored': 0.0, 'admin': 0.0, '3': 0.005050505050505051, 'by': 0.005050505050505051, 'exchange': 0.0, 'permissions': 0.0, 'room': 0.005050505050505051, 'experiments.': 0.0, 'rule-base': 0.0, 'developed': 0.0, 'best': 0.010101010101010102, 'used': 0.030303030303030304, 'developing': 0.0, 'this': 0.010101010101010102, 'Therefore,': 0.0, 'networks': 0.0, 'OpenCV': 0.005050505050505051, 'uploading': 0.005050505050505051, 'quickly,': 0.0, 'questions': 0.0, 'RMSE': 0.0, 'program': 0.0, 'videos,': 0.005050505050505051, 'MAE': 0.0, 'development': 0.010101010101010102, 'also': 0.0, 'programming': 0.005050505050505051, 'objects': 0.005050505050505051, 'specific': 0.0, 'USB': 0.010101010101010102, 'research': 0.005050505050505051, 'question': 0.0, 'requirements.': 0.0, 'notifications': 0.0, 'to': 0.03535353535353535, 'camera': 0.020202020202020204, 'problem': 0.0, 'connect': 0.0, '(SGD)': 0.0, 'out': 0.0, 'USD': 0.0, 'its': 0.005050505050505051, 'resolution.': 0.005050505050505051, 'one': 0.0, 'natural': 0.0, 'about': 0.0, 'was': 0.005050505050505051, 'integrated': 0.005050505050505051, 'initial': 0.0, 'provides': 0.0, 'computer': 0.0, 'many': 0.0, 'network': 0.0, 'detection': 0.010101010101010102, 'the': 0.050505050505050504, 'conclusions': 0.0, 'use': 0.005050505050505051, 'purposes.': 0.005050505050505051, 'raspberry': 0.005050505050505051, '320x240': 0.005050505050505051, '95%.': 0.0, 'condition.': 0.0, 'but': 0.005050505050505051, 'compared': 0.0, 'server': 0.0, 'focuses': 0.0, 'methods': 0.0, 'on': 0.005050505050505051, 'This': 0.0, 'show': 0.010101010101010102, 'model': 0.0, 'accuracy': 0.005050505050505051, 'into': 0.0, '/': 0.0, 'problems': 0.0, 'needs': 0.0, 'development,': 0.005050505050505051, 'Descent': 0.0, 'implements': 0.0, 'take': 0.0, 'more': 0.0, 'called': 0.0, 'Computer': 0.005050505050505051, 'have': 0.005050505050505051, 'notify': 0.0, 'Camera': 0.005050505050505051, 'stochastic': 0.0, 'for': 0.020202020202020204, 'between': 0.0, 'determined': 0.0, 'chatbot': 0.0, 'or': 0.0, 'processing': 0.0, 'if': 0.0, 'determining': 0.0, '59.0635004,': 0.0, '13,': 0.005050505050505051, 'DBN-SGD': 0.0, 'Belief': 0.0, 'of': 0.04040404040404041, 'In': 0.005050505050505051, 'animals': 0.005050505050505051, 'chatbot.': 0.0, 'outperform': 0.0, 'occur.': 0.0, 'Adam': 0.0, 'Indonesian.': 0.0, 'programs': 0.0, 'carried': 0.0, '46.406739,': 0.0, 'improvement.': 0.005050505050505051, 'IDR': 0.0, 'answer': 0.0, 'each': 0.0, 'such': 0.0, 'language': 0.005050505050505051, 'Deep': 0.0, 'motion': 0.015151515151515152, 'learning': 0.0, 'level': 0.0, 'compiled': 0.0, 'good': 0.0, 'online': 0.005050505050505051, 'response': 0.005050505050505051, 'able': 0.0, 'DBN': 0.0, 'produces': 0.0, 'where': 0.0, '0,098': 0.005050505050505051, 'functionality': 0.0, 'via': 0.0, 'using': 0.010101010101010102, 'k': 0.005050505050505051, 'MAPE': 0.0, 'device': 0.0, 'will': 0.005050505050505051, 'Board': 0.010101010101010102, 'monitoring': 0.0, 'answers.': 0.0, 'proposed': 0.0, '80,3%,': 0.005050505050505051, 'gained': 0.010101010101010102, '(MOG).': 0.005050505050505051, 'far': 0.005050505050505051, '(ANN),': 0.0, 'Network': 0.0, 'pixel': 0.005050505050505051, 'seconds.': 0.005050505050505051, 'traps': 0.005050505050505051, 'time': 0.005050505050505051, 'has': 0.010101010101010102, 'reach': 0.0, 'Mixture': 0.005050505050505051, 'still': 0.005050505050505051, 'devices,': 0.0, 'API.': 0.005050505050505051, 'as': 0.010101010101010102, 'Tests': 0.0, 'evaluation': 0.0, '(DBN)': 0.0, 'and': 0.015151515151515152, 'processed': 0.0, 'often': 0.0, 'with': 0.020202020202020204, 'four': 0.0, 'local': 0.0, 'detect': 0.010101010101010102, 'knowledge': 0.0, 'structure': 0.0, 'research,': 0.005050505050505051, 'performed': 0.005050505050505051, 'because': 0.0, 'optimally': 0.0, 'word': 0.0, 'Gradient': 0.0, 'results': 0.005050505050505051, 'through': 0.0, 'method.': 0.0, 'B.': 0.005050505050505051, 'system': 0.020202020202020204, '=': 0.005050505050505051, 'convergent,': 0.0, 'quickly': 0.0, '\\\\\"clients\\\\\".': 0.0, 'based': 0.0, 'The': 0.030303030303030304, 'clients': 0.0, 'it': 0.0, 'notification': 0.0, 'weight': 0.0, 'an': 0.010101010101010102, 'are': 0.0, 'model.': 0.0, 'various': 0.005050505050505051, 'stack.': 0.0, 'adopted': 0.0, 'dropbox': 0.010101010101010102, 'activity': 0.0, 'daily': 0.005050505050505051, 'create': 0.005050505050505051, 'ANNs': 0.0, 'classification': 0.0, 'resources': 0.0, 'process': 0.010101010101010102, '6m.': 0.005050505050505051, 'Single': 0.010101010101010102, 'pi': 0.005050505050505051, 'produce': 0.0, 'per': 0.005050505050505051, 'Python': 0.005050505050505051, 'maximum': 0.005050505050505051, 'average': 0.010101010101010102, 'library.': 0.005050505050505051, 'frame': 0.005050505050505051, 'connections,': 0.0, 'result': 0.010101010101010102, 'minimum': 0.0, 'optimization': 0.0, 'achieve': 0.0, 'systems.': 0.005050505050505051, 'value': 0.010101010101010102, 'neural': 0.0, 'Restricted': 0.0, \"server's\": 0.0, 'seconds,': 0.005050505050505051, 'forecast': 0.0, 'applied': 0.0, \"ANN's\": 0.0, 'long': 0.0, 'data': 0.0, 'can': 0.020202020202020204, 'evaluate': 0.0, 'monitor': 0.0, 'any': 0.0, 'problems.': 0.0, 'is': 0.020202020202020204, 'a': 0.0, 'send': 0.0, 'classifying': 0.0, '100': 0.005050505050505051, 'computers': 0.0, 'uploaded': 0.005050505050505051, 'convergence': 0.0, 'Then': 0.0, 'observe': 0.010101010101010102, 'performance': 0.0, 'point': 0.0, 'images': 0.005050505050505051, 'animal': 0.010101010101010102, '1,618': 0.005050505050505051, 'while': 0.005050505050505051, 'understanding': 0.0, 'Gaussian': 0.005050505050505051, 'rate': 0.0, '(token)': 0.0, 'distance': 0.005050505050505051, 'error': 0.0, 'accelerate': 0.0, 'composed': 0.0, '0.34652.': 0.0, 'criteria': 0.0, '11': 0.005050505050505051, 'Stochastic': 0.0, 'auto-notify': 0.0, 'approach': 0.0, 'currently': 0.005050505050505051, 'ability': 0.0, 'artificial': 0.0, 'occurs': 0.0, 'parameter.': 0.0, 'other': 0.0, 'Machine': 0.0, 'threshold': 0.005050505050505051, 'Generally,': 0.0, 'method': 0.005050505050505051, 'test': 0.015151515151515152, 'server,': 0.0, 'image': 0.010101010101010102, 'in': 0.015151515151515152, 'On': 0.005050505050505051, 'be': 0.015151515151515152, 'rates.': 0.0, '(SBC).': 0.005050505050505051, 'One': 0.0, 'form': 0.005050505050505051, 'life': 0.005050505050505051, 'second': 0.005050505050505051, 'ontology.': 0.0, 'improve': 0.0, 'forecasting': 0.0, 'that': 0.0, 'Boltzmann': 0.0, 'trap': 0.005050505050505051, 'maintaining': 0.0, '(RBM)': 0.0}\n",
      "{'DBN-Adam': 0.012121212121212121, 'stored': 0.0, 'admin': 0.0, '3': 0.0, 'by': 0.006060606060606061, 'exchange': 0.012121212121212121, 'permissions': 0.0, 'room': 0.0, 'experiments.': 0.006060606060606061, 'rule-base': 0.0, 'developed': 0.0, 'best': 0.0, 'used': 0.006060606060606061, 'developing': 0.0, 'this': 0.006060606060606061, 'Therefore,': 0.0, 'networks': 0.006060606060606061, 'OpenCV': 0.0, 'uploading': 0.0, 'quickly,': 0.006060606060606061, 'questions': 0.0, 'RMSE': 0.006060606060606061, 'program': 0.0, 'videos,': 0.0, 'MAE': 0.006060606060606061, 'development': 0.0, 'also': 0.006060606060606061, 'programming': 0.0, 'objects': 0.0, 'specific': 0.0, 'USB': 0.0, 'research': 0.0, 'question': 0.0, 'requirements.': 0.0, 'notifications': 0.0, 'to': 0.05454545454545454, 'camera': 0.0, 'problem': 0.0, 'connect': 0.0, '(SGD)': 0.006060606060606061, 'out': 0.006060606060606061, 'USD': 0.006060606060606061, 'its': 0.0, 'resolution.': 0.0, 'one': 0.0, 'natural': 0.0, 'about': 0.0, 'was': 0.0, 'integrated': 0.0, 'initial': 0.006060606060606061, 'provides': 0.0, 'computer': 0.0, 'many': 0.0, 'network': 0.0, 'detection': 0.0, 'the': 0.03636363636363636, 'conclusions': 0.0, 'use': 0.0, 'purposes.': 0.0, 'raspberry': 0.0, '320x240': 0.0, '95%.': 0.0, 'condition.': 0.0, 'but': 0.006060606060606061, 'compared': 0.006060606060606061, 'server': 0.0, 'focuses': 0.0, 'methods': 0.006060606060606061, 'on': 0.006060606060606061, 'This': 0.0, 'show': 0.0, 'model': 0.012121212121212121, 'accuracy': 0.0, 'into': 0.0, '/': 0.006060606060606061, 'problems': 0.006060606060606061, 'needs': 0.0, 'development,': 0.0, 'Descent': 0.006060606060606061, 'implements': 0.0, 'take': 0.0, 'more': 0.0, 'called': 0.0, 'Computer': 0.0, 'have': 0.006060606060606061, 'notify': 0.0, 'Camera': 0.0, 'stochastic': 0.006060606060606061, 'for': 0.006060606060606061, 'between': 0.006060606060606061, 'determined': 0.006060606060606061, 'chatbot': 0.0, 'or': 0.0, 'processing': 0.0, 'if': 0.0, 'determining': 0.006060606060606061, '59.0635004,': 0.006060606060606061, '13,': 0.0, 'DBN-SGD': 0.006060606060606061, 'Belief': 0.006060606060606061, 'of': 0.024242424242424242, 'In': 0.0, 'animals': 0.0, 'chatbot.': 0.0, 'outperform': 0.006060606060606061, 'occur.': 0.0, 'Adam': 0.006060606060606061, 'Indonesian.': 0.0, 'programs': 0.0, 'carried': 0.006060606060606061, '46.406739,': 0.006060606060606061, 'improvement.': 0.0, 'IDR': 0.006060606060606061, 'answer': 0.0, 'each': 0.006060606060606061, 'such': 0.006060606060606061, 'language': 0.0, 'Deep': 0.006060606060606061, 'motion': 0.0, 'learning': 0.012121212121212121, 'level': 0.006060606060606061, 'compiled': 0.0, 'good': 0.006060606060606061, 'online': 0.0, 'response': 0.0, 'able': 0.01818181818181818, 'DBN': 0.01818181818181818, 'produces': 0.006060606060606061, 'where': 0.006060606060606061, '0,098': 0.0, 'functionality': 0.0, 'via': 0.0, 'using': 0.0, 'k': 0.0, 'MAPE': 0.006060606060606061, 'device': 0.0, 'will': 0.0, 'Board': 0.0, 'monitoring': 0.0, 'answers.': 0.0, 'proposed': 0.012121212121212121, '80,3%,': 0.0, 'gained': 0.0, '(MOG).': 0.0, 'far': 0.0, '(ANN),': 0.006060606060606061, 'Network': 0.006060606060606061, 'pixel': 0.0, 'seconds.': 0.0, 'traps': 0.0, 'time': 0.006060606060606061, 'has': 0.0, 'reach': 0.012121212121212121, 'Mixture': 0.0, 'still': 0.0, 'devices,': 0.0, 'API.': 0.0, 'as': 0.006060606060606061, 'Tests': 0.006060606060606061, 'evaluation': 0.006060606060606061, '(DBN)': 0.006060606060606061, 'and': 0.012121212121212121, 'processed': 0.0, 'often': 0.006060606060606061, 'with': 0.0, 'four': 0.006060606060606061, 'local': 0.006060606060606061, 'detect': 0.0, 'knowledge': 0.0, 'structure': 0.006060606060606061, 'research,': 0.0, 'performed': 0.0, 'because': 0.006060606060606061, 'optimally': 0.006060606060606061, 'word': 0.0, 'Gradient': 0.006060606060606061, 'results': 0.006060606060606061, 'through': 0.006060606060606061, 'method.': 0.006060606060606061, 'B.': 0.0, 'system': 0.0, '=': 0.0, 'convergent,': 0.006060606060606061, 'quickly': 0.006060606060606061, '\\\\\"clients\\\\\".': 0.0, 'based': 0.0, 'The': 0.01818181818181818, 'clients': 0.0, 'it': 0.006060606060606061, 'notification': 0.0, 'weight': 0.006060606060606061, 'an': 0.0, 'are': 0.012121212121212121, 'model.': 0.006060606060606061, 'various': 0.0, 'stack.': 0.006060606060606061, 'adopted': 0.006060606060606061, 'dropbox': 0.0, 'activity': 0.0, 'daily': 0.006060606060606061, 'create': 0.0, 'ANNs': 0.006060606060606061, 'classification': 0.0, 'resources': 0.0, 'process': 0.0, '6m.': 0.0, 'Single': 0.0, 'pi': 0.0, 'produce': 0.0, 'per': 0.0, 'Python': 0.0, 'maximum': 0.0, 'average': 0.0, 'library.': 0.0, 'frame': 0.0, 'connections,': 0.006060606060606061, 'result': 0.006060606060606061, 'minimum': 0.006060606060606061, 'optimization': 0.006060606060606061, 'achieve': 0.006060606060606061, 'systems.': 0.0, 'value': 0.006060606060606061, 'neural': 0.006060606060606061, 'Restricted': 0.006060606060606061, \"server's\": 0.0, 'seconds,': 0.0, 'forecast': 0.006060606060606061, 'applied': 0.006060606060606061, \"ANN's\": 0.006060606060606061, 'long': 0.006060606060606061, 'data': 0.006060606060606061, 'can': 0.0, 'evaluate': 0.006060606060606061, 'monitor': 0.0, 'any': 0.0, 'problems.': 0.006060606060606061, 'is': 0.05454545454545454, 'a': 0.012121212121212121, 'send': 0.0, 'classifying': 0.0, '100': 0.0, 'computers': 0.0, 'uploaded': 0.0, 'convergence': 0.006060606060606061, 'Then': 0.0, 'observe': 0.0, 'performance': 0.006060606060606061, 'point': 0.006060606060606061, 'images': 0.0, 'animal': 0.0, '1,618': 0.0, 'while': 0.0, 'understanding': 0.0, 'Gaussian': 0.0, 'rate': 0.006060606060606061, '(token)': 0.0, 'distance': 0.0, 'error': 0.0, 'accelerate': 0.006060606060606061, 'composed': 0.006060606060606061, '0.34652.': 0.006060606060606061, 'criteria': 0.006060606060606061, '11': 0.0, 'Stochastic': 0.006060606060606061, 'auto-notify': 0.0, 'approach': 0.006060606060606061, 'currently': 0.0, 'ability': 0.006060606060606061, 'artificial': 0.006060606060606061, 'occurs': 0.0, 'parameter.': 0.006060606060606061, 'other': 0.006060606060606061, 'Machine': 0.006060606060606061, 'threshold': 0.0, 'Generally,': 0.0, 'method': 0.006060606060606061, 'test': 0.0, 'server,': 0.0, 'image': 0.0, 'in': 0.01818181818181818, 'On': 0.0, 'be': 0.0, 'rates.': 0.006060606060606061, '(SBC).': 0.0, 'One': 0.006060606060606061, 'form': 0.0, 'life': 0.0, 'second': 0.0, 'ontology.': 0.0, 'improve': 0.006060606060606061, 'forecasting': 0.006060606060606061, 'that': 0.006060606060606061, 'Boltzmann': 0.006060606060606061, 'trap': 0.0, 'maintaining': 0.006060606060606061, '(RBM)': 0.006060606060606061}\n",
      "{'DBN-Adam': 0.0, 'stored': 0.005681818181818182, 'admin': 0.011363636363636364, '3': 0.0, 'by': 0.022727272727272728, 'exchange': 0.0, 'permissions': 0.005681818181818182, 'room': 0.0, 'experiments.': 0.0, 'rule-base': 0.005681818181818182, 'developed': 0.017045454545454544, 'best': 0.0, 'used': 0.005681818181818182, 'developing': 0.005681818181818182, 'this': 0.0, 'Therefore,': 0.005681818181818182, 'networks': 0.0, 'OpenCV': 0.0, 'uploading': 0.0, 'quickly,': 0.0, 'questions': 0.017045454545454544, 'RMSE': 0.0, 'program': 0.005681818181818182, 'videos,': 0.0, 'MAE': 0.0, 'development': 0.0, 'also': 0.0, 'programming': 0.0, 'objects': 0.0, 'specific': 0.005681818181818182, 'USB': 0.0, 'research': 0.005681818181818182, 'question': 0.011363636363636364, 'requirements.': 0.005681818181818182, 'notifications': 0.005681818181818182, 'to': 0.022727272727272728, 'camera': 0.0, 'problem': 0.005681818181818182, 'connect': 0.005681818181818182, '(SGD)': 0.0, 'out': 0.0, 'USD': 0.0, 'its': 0.0, 'resolution.': 0.0, 'one': 0.005681818181818182, 'natural': 0.005681818181818182, 'about': 0.005681818181818182, 'was': 0.0, 'integrated': 0.0, 'initial': 0.0, 'provides': 0.005681818181818182, 'computer': 0.005681818181818182, 'many': 0.005681818181818182, 'network': 0.011363636363636364, 'detection': 0.0, 'the': 0.05113636363636364, 'conclusions': 0.005681818181818182, 'use': 0.0, 'purposes.': 0.0, 'raspberry': 0.0, '320x240': 0.0, '95%.': 0.005681818181818182, 'condition.': 0.005681818181818182, 'but': 0.0, 'compared': 0.0, 'server': 0.022727272727272728, 'focuses': 0.005681818181818182, 'methods': 0.0, 'on': 0.011363636363636364, 'This': 0.005681818181818182, 'show': 0.005681818181818182, 'model': 0.0, 'accuracy': 0.005681818181818182, 'into': 0.005681818181818182, '/': 0.0, 'problems': 0.005681818181818182, 'needs': 0.005681818181818182, 'development,': 0.0, 'Descent': 0.0, 'implements': 0.005681818181818182, 'take': 0.005681818181818182, 'more': 0.005681818181818182, 'called': 0.005681818181818182, 'Computer': 0.0, 'have': 0.005681818181818182, 'notify': 0.005681818181818182, 'Camera': 0.0, 'stochastic': 0.0, 'for': 0.011363636363636364, 'between': 0.0, 'determined': 0.0, 'chatbot': 0.005681818181818182, 'or': 0.017045454545454544, 'processing': 0.005681818181818182, 'if': 0.017045454545454544, 'determining': 0.0, '59.0635004,': 0.0, '13,': 0.0, 'DBN-SGD': 0.0, 'Belief': 0.0, 'of': 0.005681818181818182, 'In': 0.0, 'animals': 0.0, 'chatbot.': 0.005681818181818182, 'outperform': 0.0, 'occur.': 0.005681818181818182, 'Adam': 0.0, 'Indonesian.': 0.005681818181818182, 'programs': 0.005681818181818182, 'carried': 0.0, '46.406739,': 0.0, 'improvement.': 0.0, 'IDR': 0.0, 'answer': 0.022727272727272728, 'each': 0.005681818181818182, 'such': 0.0, 'language': 0.011363636363636364, 'Deep': 0.0, 'motion': 0.0, 'learning': 0.0, 'level': 0.0, 'compiled': 0.005681818181818182, 'good': 0.0, 'online': 0.0, 'response': 0.0, 'able': 0.0, 'DBN': 0.0, 'produces': 0.0, 'where': 0.0, '0,098': 0.0, 'functionality': 0.005681818181818182, 'via': 0.005681818181818182, 'using': 0.0, 'k': 0.0, 'MAPE': 0.0, 'device': 0.005681818181818182, 'will': 0.0, 'Board': 0.0, 'monitoring': 0.017045454545454544, 'answers.': 0.005681818181818182, 'proposed': 0.0, '80,3%,': 0.0, 'gained': 0.0, '(MOG).': 0.0, 'far': 0.0, '(ANN),': 0.0, 'Network': 0.0, 'pixel': 0.0, 'seconds.': 0.0, 'traps': 0.0, 'time': 0.0, 'has': 0.0, 'reach': 0.0, 'Mixture': 0.0, 'still': 0.0, 'devices,': 0.005681818181818182, 'API.': 0.0, 'as': 0.0, 'Tests': 0.0, 'evaluation': 0.0, '(DBN)': 0.0, 'and': 0.045454545454545456, 'processed': 0.005681818181818182, 'often': 0.0, 'with': 0.011363636363636364, 'four': 0.0, 'local': 0.0, 'detect': 0.0, 'knowledge': 0.005681818181818182, 'structure': 0.0, 'research,': 0.0, 'performed': 0.0, 'because': 0.0, 'optimally': 0.0, 'word': 0.005681818181818182, 'Gradient': 0.0, 'results': 0.011363636363636364, 'through': 0.005681818181818182, 'method.': 0.0, 'B.': 0.0, 'system': 0.028409090909090908, '=': 0.0, 'convergent,': 0.0, 'quickly': 0.0, '\\\\\"clients\\\\\".': 0.005681818181818182, 'based': 0.005681818181818182, 'The': 0.028409090909090908, 'clients': 0.005681818181818182, 'it': 0.0, 'notification': 0.005681818181818182, 'weight': 0.0, 'an': 0.005681818181818182, 'are': 0.005681818181818182, 'model.': 0.0, 'various': 0.0, 'stack.': 0.0, 'adopted': 0.0, 'dropbox': 0.0, 'activity': 0.005681818181818182, 'daily': 0.0, 'create': 0.0, 'ANNs': 0.0, 'classification': 0.005681818181818182, 'resources': 0.005681818181818182, 'process': 0.005681818181818182, '6m.': 0.0, 'Single': 0.0, 'pi': 0.0, 'produce': 0.005681818181818182, 'per': 0.0, 'Python': 0.0, 'maximum': 0.0, 'average': 0.0, 'library.': 0.0, 'frame': 0.0, 'connections,': 0.0, 'result': 0.0, 'minimum': 0.0, 'optimization': 0.0, 'achieve': 0.0, 'systems.': 0.0, 'value': 0.0, 'neural': 0.0, 'Restricted': 0.0, \"server's\": 0.005681818181818182, 'seconds,': 0.0, 'forecast': 0.0, 'applied': 0.0, \"ANN's\": 0.0, 'long': 0.0, 'data': 0.005681818181818182, 'can': 0.03409090909090909, 'evaluate': 0.0, 'monitor': 0.005681818181818182, 'any': 0.005681818181818182, 'problems.': 0.0, 'is': 0.011363636363636364, 'a': 0.028409090909090908, 'send': 0.005681818181818182, 'classifying': 0.005681818181818182, '100': 0.0, 'computers': 0.005681818181818182, 'uploaded': 0.0, 'convergence': 0.0, 'Then': 0.005681818181818182, 'observe': 0.0, 'performance': 0.0, 'point': 0.0, 'images': 0.0, 'animal': 0.0, '1,618': 0.0, 'while': 0.0, 'understanding': 0.005681818181818182, 'Gaussian': 0.0, 'rate': 0.0, '(token)': 0.005681818181818182, 'distance': 0.0, 'error': 0.005681818181818182, 'accelerate': 0.0, 'composed': 0.0, '0.34652.': 0.0, 'criteria': 0.0, '11': 0.0, 'Stochastic': 0.0, 'auto-notify': 0.005681818181818182, 'approach': 0.0, 'currently': 0.0, 'ability': 0.0, 'artificial': 0.0, 'occurs': 0.005681818181818182, 'parameter.': 0.0, 'other': 0.005681818181818182, 'Machine': 0.0, 'threshold': 0.0, 'Generally,': 0.005681818181818182, 'method': 0.0, 'test': 0.005681818181818182, 'server,': 0.005681818181818182, 'image': 0.0, 'in': 0.011363636363636364, 'On': 0.0, 'be': 0.005681818181818182, 'rates.': 0.0, '(SBC).': 0.0, 'One': 0.0, 'form': 0.0, 'life': 0.0, 'second': 0.0, 'ontology.': 0.005681818181818182, 'improve': 0.0, 'forecasting': 0.0, 'that': 0.022727272727272728, 'Boltzmann': 0.0, 'trap': 0.0, 'maintaining': 0.0, '(RBM)': 0.0}\n"
     ]
    }
   ],
   "source": [
    "print(tf1)\n",
    "print(tf2)\n",
    "print(tf3)"
   ]
  },
  {
   "cell_type": "markdown",
   "metadata": {},
   "source": [
    "# Inverse Data Frequency"
   ]
  },
  {
   "cell_type": "markdown",
   "metadata": {},
   "source": [
    "The log of the number of documents divided by the number of documents that contain the specified word. This inverse data frequency determines the weight of rare words across all documents in the file."
   ]
  },
  {
   "cell_type": "code",
   "execution_count": 13,
   "metadata": {
    "pycharm": {
     "name": "#%%\n"
    }
   },
   "outputs": [],
   "source": [
    "def idf(docs):\n",
    "    import math\n",
    "    N = len(docs)\n",
    "\n",
    "    idfDict = dict.fromkeys(docs[0].keys(), 0)\n",
    "    for doc in docs:\n",
    "        for word, val in doc.items():\n",
    "            if val > 0:\n",
    "                idfDict[word] += 1\n",
    "\n",
    "    for word, val in idfDict.items():\n",
    "        idfDict[word] = math.log(N / float(val))\n",
    "    return idfDict"
   ]
  },
  {
   "cell_type": "code",
   "execution_count": 23,
   "metadata": {
    "pycharm": {
     "name": "#%%\n"
    }
   },
   "outputs": [
    {
     "name": "stdout",
     "output_type": "stream",
     "text": [
      "{'DBN-Adam': 1.0986122886681098, 'stored': 1.0986122886681098, 'admin': 1.0986122886681098, '3': 1.0986122886681098, 'by': 0.0, 'exchange': 1.0986122886681098, 'permissions': 1.0986122886681098, 'room': 1.0986122886681098, 'experiments.': 1.0986122886681098, 'rule-base': 1.0986122886681098, 'developed': 1.0986122886681098, 'best': 1.0986122886681098, 'used': 0.0, 'developing': 1.0986122886681098, 'this': 0.4054651081081644, 'Therefore,': 1.0986122886681098, 'networks': 1.0986122886681098, 'OpenCV': 1.0986122886681098, 'uploading': 1.0986122886681098, 'quickly,': 1.0986122886681098, 'questions': 1.0986122886681098, 'RMSE': 1.0986122886681098, 'program': 1.0986122886681098, 'videos,': 1.0986122886681098, 'MAE': 1.0986122886681098, 'development': 1.0986122886681098, 'also': 1.0986122886681098, 'programming': 1.0986122886681098, 'objects': 1.0986122886681098, 'specific': 1.0986122886681098, 'USB': 1.0986122886681098, 'research': 0.4054651081081644, 'question': 1.0986122886681098, 'requirements.': 1.0986122886681098, 'notifications': 1.0986122886681098, 'to': 0.0, 'camera': 1.0986122886681098, 'problem': 1.0986122886681098, 'connect': 1.0986122886681098, '(SGD)': 1.0986122886681098, 'out': 1.0986122886681098, 'USD': 1.0986122886681098, 'its': 1.0986122886681098, 'resolution.': 1.0986122886681098, 'one': 1.0986122886681098, 'natural': 1.0986122886681098, 'about': 1.0986122886681098, 'was': 1.0986122886681098, 'integrated': 1.0986122886681098, 'initial': 1.0986122886681098, 'provides': 1.0986122886681098, 'computer': 1.0986122886681098, 'many': 1.0986122886681098, 'network': 1.0986122886681098, 'detection': 1.0986122886681098, 'the': 0.0, 'conclusions': 1.0986122886681098, 'use': 1.0986122886681098, 'purposes.': 1.0986122886681098, 'raspberry': 1.0986122886681098, '320x240': 1.0986122886681098, '95%.': 1.0986122886681098, 'condition.': 1.0986122886681098, 'but': 0.4054651081081644, 'compared': 1.0986122886681098, 'server': 1.0986122886681098, 'focuses': 1.0986122886681098, 'methods': 1.0986122886681098, 'on': 0.0, 'This': 1.0986122886681098, 'show': 0.4054651081081644, 'model': 1.0986122886681098, 'accuracy': 0.4054651081081644, 'into': 1.0986122886681098, '/': 1.0986122886681098, 'problems': 0.4054651081081644, 'needs': 1.0986122886681098, 'development,': 1.0986122886681098, 'Descent': 1.0986122886681098, 'implements': 1.0986122886681098, 'take': 1.0986122886681098, 'more': 1.0986122886681098, 'called': 1.0986122886681098, 'Computer': 1.0986122886681098, 'have': 0.0, 'notify': 1.0986122886681098, 'Camera': 1.0986122886681098, 'stochastic': 1.0986122886681098, 'for': 0.0, 'between': 1.0986122886681098, 'determined': 1.0986122886681098, 'chatbot': 1.0986122886681098, 'or': 1.0986122886681098, 'processing': 1.0986122886681098, 'if': 1.0986122886681098, 'determining': 1.0986122886681098, '59.0635004,': 1.0986122886681098, '13,': 1.0986122886681098, 'DBN-SGD': 1.0986122886681098, 'Belief': 1.0986122886681098, 'of': 0.0, 'In': 1.0986122886681098, 'animals': 1.0986122886681098, 'chatbot.': 1.0986122886681098, 'outperform': 1.0986122886681098, 'occur.': 1.0986122886681098, 'Adam': 1.0986122886681098, 'Indonesian.': 1.0986122886681098, 'programs': 1.0986122886681098, 'carried': 1.0986122886681098, '46.406739,': 1.0986122886681098, 'improvement.': 1.0986122886681098, 'IDR': 1.0986122886681098, 'answer': 1.0986122886681098, 'each': 0.4054651081081644, 'such': 1.0986122886681098, 'language': 0.4054651081081644, 'Deep': 1.0986122886681098, 'motion': 1.0986122886681098, 'learning': 1.0986122886681098, 'level': 1.0986122886681098, 'compiled': 1.0986122886681098, 'good': 1.0986122886681098, 'online': 1.0986122886681098, 'response': 1.0986122886681098, 'able': 1.0986122886681098, 'DBN': 1.0986122886681098, 'produces': 1.0986122886681098, 'where': 1.0986122886681098, '0,098': 1.0986122886681098, 'functionality': 1.0986122886681098, 'via': 1.0986122886681098, 'using': 1.0986122886681098, 'k': 1.0986122886681098, 'MAPE': 1.0986122886681098, 'device': 1.0986122886681098, 'will': 1.0986122886681098, 'Board': 1.0986122886681098, 'monitoring': 1.0986122886681098, 'answers.': 1.0986122886681098, 'proposed': 1.0986122886681098, '80,3%,': 1.0986122886681098, 'gained': 1.0986122886681098, '(MOG).': 1.0986122886681098, 'far': 1.0986122886681098, '(ANN),': 1.0986122886681098, 'Network': 1.0986122886681098, 'pixel': 1.0986122886681098, 'seconds.': 1.0986122886681098, 'traps': 1.0986122886681098, 'time': 0.4054651081081644, 'has': 1.0986122886681098, 'reach': 1.0986122886681098, 'Mixture': 1.0986122886681098, 'still': 1.0986122886681098, 'devices,': 1.0986122886681098, 'API.': 1.0986122886681098, 'as': 0.4054651081081644, 'Tests': 1.0986122886681098, 'evaluation': 1.0986122886681098, '(DBN)': 1.0986122886681098, 'and': 0.0, 'processed': 1.0986122886681098, 'often': 1.0986122886681098, 'with': 0.4054651081081644, 'four': 1.0986122886681098, 'local': 1.0986122886681098, 'detect': 1.0986122886681098, 'knowledge': 1.0986122886681098, 'structure': 1.0986122886681098, 'research,': 1.0986122886681098, 'performed': 1.0986122886681098, 'because': 1.0986122886681098, 'optimally': 1.0986122886681098, 'word': 1.0986122886681098, 'Gradient': 1.0986122886681098, 'results': 0.0, 'through': 0.4054651081081644, 'method.': 1.0986122886681098, 'B.': 1.0986122886681098, 'system': 0.4054651081081644, '=': 1.0986122886681098, 'convergent,': 1.0986122886681098, 'quickly': 1.0986122886681098, '\\\\\"clients\\\\\".': 1.0986122886681098, 'based': 1.0986122886681098, 'The': 0.0, 'clients': 1.0986122886681098, 'it': 1.0986122886681098, 'notification': 1.0986122886681098, 'weight': 1.0986122886681098, 'an': 0.4054651081081644, 'are': 0.4054651081081644, 'model.': 1.0986122886681098, 'various': 1.0986122886681098, 'stack.': 1.0986122886681098, 'adopted': 1.0986122886681098, 'dropbox': 1.0986122886681098, 'activity': 1.0986122886681098, 'daily': 0.4054651081081644, 'create': 1.0986122886681098, 'ANNs': 1.0986122886681098, 'classification': 1.0986122886681098, 'resources': 1.0986122886681098, 'process': 0.4054651081081644, '6m.': 1.0986122886681098, 'Single': 1.0986122886681098, 'pi': 1.0986122886681098, 'produce': 1.0986122886681098, 'per': 1.0986122886681098, 'Python': 1.0986122886681098, 'maximum': 1.0986122886681098, 'average': 1.0986122886681098, 'library.': 1.0986122886681098, 'frame': 1.0986122886681098, 'connections,': 1.0986122886681098, 'result': 0.4054651081081644, 'minimum': 1.0986122886681098, 'optimization': 1.0986122886681098, 'achieve': 1.0986122886681098, 'systems.': 1.0986122886681098, 'value': 0.4054651081081644, 'neural': 1.0986122886681098, 'Restricted': 1.0986122886681098, \"server's\": 1.0986122886681098, 'seconds,': 1.0986122886681098, 'forecast': 1.0986122886681098, 'applied': 1.0986122886681098, \"ANN's\": 1.0986122886681098, 'long': 1.0986122886681098, 'data': 0.4054651081081644, 'can': 0.4054651081081644, 'evaluate': 1.0986122886681098, 'monitor': 1.0986122886681098, 'any': 1.0986122886681098, 'problems.': 1.0986122886681098, 'is': 0.0, 'a': 0.4054651081081644, 'send': 1.0986122886681098, 'classifying': 1.0986122886681098, '100': 1.0986122886681098, 'computers': 1.0986122886681098, 'uploaded': 1.0986122886681098, 'convergence': 1.0986122886681098, 'Then': 1.0986122886681098, 'observe': 1.0986122886681098, 'performance': 1.0986122886681098, 'point': 1.0986122886681098, 'images': 1.0986122886681098, 'animal': 1.0986122886681098, '1,618': 1.0986122886681098, 'while': 1.0986122886681098, 'understanding': 1.0986122886681098, 'Gaussian': 1.0986122886681098, 'rate': 1.0986122886681098, '(token)': 1.0986122886681098, 'distance': 1.0986122886681098, 'error': 1.0986122886681098, 'accelerate': 1.0986122886681098, 'composed': 1.0986122886681098, '0.34652.': 1.0986122886681098, 'criteria': 1.0986122886681098, '11': 1.0986122886681098, 'Stochastic': 1.0986122886681098, 'auto-notify': 1.0986122886681098, 'approach': 1.0986122886681098, 'currently': 1.0986122886681098, 'ability': 1.0986122886681098, 'artificial': 1.0986122886681098, 'occurs': 1.0986122886681098, 'parameter.': 1.0986122886681098, 'other': 0.4054651081081644, 'Machine': 1.0986122886681098, 'threshold': 1.0986122886681098, 'Generally,': 1.0986122886681098, 'method': 0.4054651081081644, 'test': 0.4054651081081644, 'server,': 1.0986122886681098, 'image': 1.0986122886681098, 'in': 0.0, 'On': 1.0986122886681098, 'be': 0.4054651081081644, 'rates.': 1.0986122886681098, '(SBC).': 1.0986122886681098, 'One': 1.0986122886681098, 'form': 1.0986122886681098, 'life': 1.0986122886681098, 'second': 1.0986122886681098, 'ontology.': 1.0986122886681098, 'improve': 1.0986122886681098, 'forecasting': 1.0986122886681098, 'that': 0.4054651081081644, 'Boltzmann': 1.0986122886681098, 'trap': 1.0986122886681098, 'maintaining': 1.0986122886681098, '(RBM)': 1.0986122886681098}\n"
     ]
    }
   ],
   "source": [
    "idfs = idf([numOfWords1, numOfWords2, numOfWords3])\n",
    "print(idfs)"
   ]
  },
  {
   "cell_type": "markdown",
   "metadata": {},
   "source": [
    "# Multiplying the Term Frequency and Inverse Data frequency"
   ]
  },
  {
   "cell_type": "markdown",
   "metadata": {},
   "source": [
    "By multiplying the term frequency and the inverse data frequency, we get the weight of each term"
   ]
  },
  {
   "cell_type": "code",
   "execution_count": 24,
   "metadata": {
    "pycharm": {
     "name": "#%%\n"
    }
   },
   "outputs": [],
   "source": [
    "def tfidf(tfBagOfWords, idfs):\n",
    "    tfidf = {}\n",
    "    for word, val in tfBagOfWords.items():\n",
    "        tfidf[word] = val * idfs[word]\n",
    "    return tfidf"
   ]
  },
  {
   "cell_type": "code",
   "execution_count": 25,
   "metadata": {
    "pycharm": {
     "name": "#%%\n"
    }
   },
   "outputs": [],
   "source": [
    "tfidf1 = tfidf(tf1, idfs)\n",
    "tfidf2 = tfidf(tf2, idfs)\n",
    "tfidf3 = tfidf(tf3, idfs)\n",
    "df = pd.DataFrame([tfidf1, tfidf2, tfidf3])"
   ]
  },
  {
   "cell_type": "code",
   "execution_count": 27,
   "metadata": {
    "pycharm": {
     "name": "#%%\n"
    }
   },
   "outputs": [
    {
     "data": {
      "text/html": [
       "<div>\n",
       "<style scoped>\n",
       "    .dataframe tbody tr th:only-of-type {\n",
       "        vertical-align: middle;\n",
       "    }\n",
       "\n",
       "    .dataframe tbody tr th {\n",
       "        vertical-align: top;\n",
       "    }\n",
       "\n",
       "    .dataframe thead th {\n",
       "        text-align: right;\n",
       "    }\n",
       "</style>\n",
       "<table border=\"1\" class=\"dataframe\">\n",
       "  <thead>\n",
       "    <tr style=\"text-align: right;\">\n",
       "      <th></th>\n",
       "      <th>DBN-Adam</th>\n",
       "      <th>stored</th>\n",
       "      <th>admin</th>\n",
       "      <th>3</th>\n",
       "      <th>by</th>\n",
       "      <th>exchange</th>\n",
       "      <th>permissions</th>\n",
       "      <th>room</th>\n",
       "      <th>experiments.</th>\n",
       "      <th>rule-base</th>\n",
       "      <th>...</th>\n",
       "      <th>life</th>\n",
       "      <th>second</th>\n",
       "      <th>ontology.</th>\n",
       "      <th>improve</th>\n",
       "      <th>forecasting</th>\n",
       "      <th>that</th>\n",
       "      <th>Boltzmann</th>\n",
       "      <th>trap</th>\n",
       "      <th>maintaining</th>\n",
       "      <th>(RBM)</th>\n",
       "    </tr>\n",
       "  </thead>\n",
       "  <tbody>\n",
       "    <tr>\n",
       "      <th>0</th>\n",
       "      <td>0.000000</td>\n",
       "      <td>0.000000</td>\n",
       "      <td>0.000000</td>\n",
       "      <td>0.005549</td>\n",
       "      <td>0.0</td>\n",
       "      <td>0.000000</td>\n",
       "      <td>0.000000</td>\n",
       "      <td>0.005549</td>\n",
       "      <td>0.000000</td>\n",
       "      <td>0.000000</td>\n",
       "      <td>...</td>\n",
       "      <td>0.005549</td>\n",
       "      <td>0.005549</td>\n",
       "      <td>0.000000</td>\n",
       "      <td>0.000000</td>\n",
       "      <td>0.000000</td>\n",
       "      <td>0.000000</td>\n",
       "      <td>0.000000</td>\n",
       "      <td>0.005549</td>\n",
       "      <td>0.000000</td>\n",
       "      <td>0.000000</td>\n",
       "    </tr>\n",
       "    <tr>\n",
       "      <th>1</th>\n",
       "      <td>0.013317</td>\n",
       "      <td>0.000000</td>\n",
       "      <td>0.000000</td>\n",
       "      <td>0.000000</td>\n",
       "      <td>0.0</td>\n",
       "      <td>0.013317</td>\n",
       "      <td>0.000000</td>\n",
       "      <td>0.000000</td>\n",
       "      <td>0.006658</td>\n",
       "      <td>0.000000</td>\n",
       "      <td>...</td>\n",
       "      <td>0.000000</td>\n",
       "      <td>0.000000</td>\n",
       "      <td>0.000000</td>\n",
       "      <td>0.006658</td>\n",
       "      <td>0.006658</td>\n",
       "      <td>0.002457</td>\n",
       "      <td>0.006658</td>\n",
       "      <td>0.000000</td>\n",
       "      <td>0.006658</td>\n",
       "      <td>0.006658</td>\n",
       "    </tr>\n",
       "    <tr>\n",
       "      <th>2</th>\n",
       "      <td>0.000000</td>\n",
       "      <td>0.006242</td>\n",
       "      <td>0.012484</td>\n",
       "      <td>0.000000</td>\n",
       "      <td>0.0</td>\n",
       "      <td>0.000000</td>\n",
       "      <td>0.006242</td>\n",
       "      <td>0.000000</td>\n",
       "      <td>0.000000</td>\n",
       "      <td>0.006242</td>\n",
       "      <td>...</td>\n",
       "      <td>0.000000</td>\n",
       "      <td>0.000000</td>\n",
       "      <td>0.006242</td>\n",
       "      <td>0.000000</td>\n",
       "      <td>0.000000</td>\n",
       "      <td>0.009215</td>\n",
       "      <td>0.000000</td>\n",
       "      <td>0.000000</td>\n",
       "      <td>0.000000</td>\n",
       "      <td>0.000000</td>\n",
       "    </tr>\n",
       "  </tbody>\n",
       "</table>\n",
       "<p>3 rows × 296 columns</p>\n",
       "</div>"
      ],
      "text/plain": [
       "   DBN-Adam    stored     admin         3   by  exchange  permissions  \\\n",
       "0  0.000000  0.000000  0.000000  0.005549  0.0  0.000000     0.000000   \n",
       "1  0.013317  0.000000  0.000000  0.000000  0.0  0.013317     0.000000   \n",
       "2  0.000000  0.006242  0.012484  0.000000  0.0  0.000000     0.006242   \n",
       "\n",
       "       room  experiments.  rule-base  ...      life    second  ontology.  \\\n",
       "0  0.005549      0.000000   0.000000  ...  0.005549  0.005549   0.000000   \n",
       "1  0.000000      0.006658   0.000000  ...  0.000000  0.000000   0.000000   \n",
       "2  0.000000      0.000000   0.006242  ...  0.000000  0.000000   0.006242   \n",
       "\n",
       "    improve  forecasting      that  Boltzmann      trap  maintaining     (RBM)  \n",
       "0  0.000000     0.000000  0.000000   0.000000  0.005549     0.000000  0.000000  \n",
       "1  0.006658     0.006658  0.002457   0.006658  0.000000     0.006658  0.006658  \n",
       "2  0.000000     0.000000  0.009215   0.000000  0.000000     0.000000  0.000000  \n",
       "\n",
       "[3 rows x 296 columns]"
      ]
     },
     "execution_count": 27,
     "metadata": {},
     "output_type": "execute_result"
    }
   ],
   "source": [
    "df"
   ]
  },
  {
   "cell_type": "code",
   "execution_count": 28,
   "metadata": {
    "pycharm": {
     "name": "#%%\n"
    }
   },
   "outputs": [
    {
     "name": "stdout",
     "output_type": "stream",
     "text": [
      "(3, 269)\n"
     ]
    }
   ],
   "source": [
    "vectorizer = TfidfVectorizer()\n",
    "vectors = vectorizer.fit_transform([file1_data, file2_data, file3_data])\n",
    "feature_names = vectorizer.get_feature_names_out()\n",
    "dense = vectors.todense()\n",
    "denselist = dense.tolist()\n",
    "df = pd.DataFrame(denselist, columns=feature_names)\n",
    "print(vectors.shape)"
   ]
  },
  {
   "cell_type": "markdown",
   "metadata": {},
   "source": [
    "df"
   ]
  },
  {
   "cell_type": "code",
   "execution_count": 31,
   "metadata": {
    "pycharm": {
     "name": "#%%\n"
    }
   },
   "outputs": [
    {
     "ename": "AttributeError",
     "evalue": "'list' object has no attribute 'lower'",
     "output_type": "error",
     "traceback": [
      "\u001b[1;31m---------------------------------------------------------------------------\u001b[0m",
      "\u001b[1;31mAttributeError\u001b[0m                            Traceback (most recent call last)",
      "Input \u001b[1;32mIn [31]\u001b[0m, in \u001b[0;36m<module>\u001b[1;34m\u001b[0m\n\u001b[0;32m      1\u001b[0m query \u001b[38;5;241m=\u001b[39m denselist\n\u001b[1;32m----> 2\u001b[0m query_vec \u001b[38;5;241m=\u001b[39m \u001b[43mvectorizer\u001b[49m\u001b[38;5;241;43m.\u001b[39;49m\u001b[43mtransform\u001b[49m\u001b[43m(\u001b[49m\u001b[43m[\u001b[49m\u001b[43mquery\u001b[49m\u001b[43m]\u001b[49m\u001b[43m)\u001b[49m\n\u001b[0;32m      3\u001b[0m results \u001b[38;5;241m=\u001b[39m cosine_similarity(vectors, query_vec)\u001b[38;5;241m.\u001b[39mreshape((\u001b[38;5;241m-\u001b[39m\u001b[38;5;241m1\u001b[39m))\n",
      "File \u001b[1;32mc:\\python39\\lib\\site-packages\\sklearn\\feature_extraction\\text.py:2101\u001b[0m, in \u001b[0;36mTfidfVectorizer.transform\u001b[1;34m(self, raw_documents)\u001b[0m\n\u001b[0;32m   2084\u001b[0m \u001b[38;5;124;03m\"\"\"Transform documents to document-term matrix.\u001b[39;00m\n\u001b[0;32m   2085\u001b[0m \n\u001b[0;32m   2086\u001b[0m \u001b[38;5;124;03mUses the vocabulary and document frequencies (df) learned by fit (or\u001b[39;00m\n\u001b[1;32m   (...)\u001b[0m\n\u001b[0;32m   2097\u001b[0m \u001b[38;5;124;03m    Tf-idf-weighted document-term matrix.\u001b[39;00m\n\u001b[0;32m   2098\u001b[0m \u001b[38;5;124;03m\"\"\"\u001b[39;00m\n\u001b[0;32m   2099\u001b[0m check_is_fitted(\u001b[38;5;28mself\u001b[39m, msg\u001b[38;5;241m=\u001b[39m\u001b[38;5;124m\"\u001b[39m\u001b[38;5;124mThe TF-IDF vectorizer is not fitted\u001b[39m\u001b[38;5;124m\"\u001b[39m)\n\u001b[1;32m-> 2101\u001b[0m X \u001b[38;5;241m=\u001b[39m \u001b[38;5;28;43msuper\u001b[39;49m\u001b[43m(\u001b[49m\u001b[43m)\u001b[49m\u001b[38;5;241;43m.\u001b[39;49m\u001b[43mtransform\u001b[49m\u001b[43m(\u001b[49m\u001b[43mraw_documents\u001b[49m\u001b[43m)\u001b[49m\n\u001b[0;32m   2102\u001b[0m \u001b[38;5;28;01mreturn\u001b[39;00m \u001b[38;5;28mself\u001b[39m\u001b[38;5;241m.\u001b[39m_tfidf\u001b[38;5;241m.\u001b[39mtransform(X, copy\u001b[38;5;241m=\u001b[39m\u001b[38;5;28;01mFalse\u001b[39;00m)\n",
      "File \u001b[1;32mc:\\python39\\lib\\site-packages\\sklearn\\feature_extraction\\text.py:1379\u001b[0m, in \u001b[0;36mCountVectorizer.transform\u001b[1;34m(self, raw_documents)\u001b[0m\n\u001b[0;32m   1376\u001b[0m \u001b[38;5;28mself\u001b[39m\u001b[38;5;241m.\u001b[39m_check_vocabulary()\n\u001b[0;32m   1378\u001b[0m \u001b[38;5;66;03m# use the same matrix-building strategy as fit_transform\u001b[39;00m\n\u001b[1;32m-> 1379\u001b[0m _, X \u001b[38;5;241m=\u001b[39m \u001b[38;5;28;43mself\u001b[39;49m\u001b[38;5;241;43m.\u001b[39;49m\u001b[43m_count_vocab\u001b[49m\u001b[43m(\u001b[49m\u001b[43mraw_documents\u001b[49m\u001b[43m,\u001b[49m\u001b[43m \u001b[49m\u001b[43mfixed_vocab\u001b[49m\u001b[38;5;241;43m=\u001b[39;49m\u001b[38;5;28;43;01mTrue\u001b[39;49;00m\u001b[43m)\u001b[49m\n\u001b[0;32m   1380\u001b[0m \u001b[38;5;28;01mif\u001b[39;00m \u001b[38;5;28mself\u001b[39m\u001b[38;5;241m.\u001b[39mbinary:\n\u001b[0;32m   1381\u001b[0m     X\u001b[38;5;241m.\u001b[39mdata\u001b[38;5;241m.\u001b[39mfill(\u001b[38;5;241m1\u001b[39m)\n",
      "File \u001b[1;32mc:\\python39\\lib\\site-packages\\sklearn\\feature_extraction\\text.py:1201\u001b[0m, in \u001b[0;36mCountVectorizer._count_vocab\u001b[1;34m(self, raw_documents, fixed_vocab)\u001b[0m\n\u001b[0;32m   1199\u001b[0m \u001b[38;5;28;01mfor\u001b[39;00m doc \u001b[38;5;129;01min\u001b[39;00m raw_documents:\n\u001b[0;32m   1200\u001b[0m     feature_counter \u001b[38;5;241m=\u001b[39m {}\n\u001b[1;32m-> 1201\u001b[0m     \u001b[38;5;28;01mfor\u001b[39;00m feature \u001b[38;5;129;01min\u001b[39;00m \u001b[43manalyze\u001b[49m\u001b[43m(\u001b[49m\u001b[43mdoc\u001b[49m\u001b[43m)\u001b[49m:\n\u001b[0;32m   1202\u001b[0m         \u001b[38;5;28;01mtry\u001b[39;00m:\n\u001b[0;32m   1203\u001b[0m             feature_idx \u001b[38;5;241m=\u001b[39m vocabulary[feature]\n",
      "File \u001b[1;32mc:\\python39\\lib\\site-packages\\sklearn\\feature_extraction\\text.py:113\u001b[0m, in \u001b[0;36m_analyze\u001b[1;34m(doc, analyzer, tokenizer, ngrams, preprocessor, decoder, stop_words)\u001b[0m\n\u001b[0;32m    111\u001b[0m \u001b[38;5;28;01melse\u001b[39;00m:\n\u001b[0;32m    112\u001b[0m     \u001b[38;5;28;01mif\u001b[39;00m preprocessor \u001b[38;5;129;01mis\u001b[39;00m \u001b[38;5;129;01mnot\u001b[39;00m \u001b[38;5;28;01mNone\u001b[39;00m:\n\u001b[1;32m--> 113\u001b[0m         doc \u001b[38;5;241m=\u001b[39m \u001b[43mpreprocessor\u001b[49m\u001b[43m(\u001b[49m\u001b[43mdoc\u001b[49m\u001b[43m)\u001b[49m\n\u001b[0;32m    114\u001b[0m     \u001b[38;5;28;01mif\u001b[39;00m tokenizer \u001b[38;5;129;01mis\u001b[39;00m \u001b[38;5;129;01mnot\u001b[39;00m \u001b[38;5;28;01mNone\u001b[39;00m:\n\u001b[0;32m    115\u001b[0m         doc \u001b[38;5;241m=\u001b[39m tokenizer(doc)\n",
      "File \u001b[1;32mc:\\python39\\lib\\site-packages\\sklearn\\feature_extraction\\text.py:71\u001b[0m, in \u001b[0;36m_preprocess\u001b[1;34m(doc, accent_function, lower)\u001b[0m\n\u001b[0;32m     52\u001b[0m \u001b[38;5;124;03m\"\"\"Chain together an optional series of text preprocessing steps to\u001b[39;00m\n\u001b[0;32m     53\u001b[0m \u001b[38;5;124;03mapply to a document.\u001b[39;00m\n\u001b[0;32m     54\u001b[0m \n\u001b[1;32m   (...)\u001b[0m\n\u001b[0;32m     68\u001b[0m \u001b[38;5;124;03m    preprocessed string\u001b[39;00m\n\u001b[0;32m     69\u001b[0m \u001b[38;5;124;03m\"\"\"\u001b[39;00m\n\u001b[0;32m     70\u001b[0m \u001b[38;5;28;01mif\u001b[39;00m lower:\n\u001b[1;32m---> 71\u001b[0m     doc \u001b[38;5;241m=\u001b[39m \u001b[43mdoc\u001b[49m\u001b[38;5;241;43m.\u001b[39;49m\u001b[43mlower\u001b[49m()\n\u001b[0;32m     72\u001b[0m \u001b[38;5;28;01mif\u001b[39;00m accent_function \u001b[38;5;129;01mis\u001b[39;00m \u001b[38;5;129;01mnot\u001b[39;00m \u001b[38;5;28;01mNone\u001b[39;00m:\n\u001b[0;32m     73\u001b[0m     doc \u001b[38;5;241m=\u001b[39m accent_function(doc)\n",
      "\u001b[1;31mAttributeError\u001b[0m: 'list' object has no attribute 'lower'"
     ]
    }
   ],
   "source": [
    "query = denselist\n",
    "query_vec = vectorizer.transform([query])\n",
    "results = cosine_similarity(vectors, query_vec).reshape((-1))"
   ]
  }
 ],
 "metadata": {
  "kernelspec": {
   "display_name": "Python 3 (ipykernel)",
   "language": "python",
   "name": "python3"
  },
  "language_info": {
   "codemirror_mode": {
    "name": "ipython",
    "version": 3
   },
   "file_extension": ".py",
   "mimetype": "text/x-python",
   "name": "python",
   "nbconvert_exporter": "python",
   "pygments_lexer": "ipython3",
   "version": "3.9.2"
  }
 },
 "nbformat": 4,
 "nbformat_minor": 1
}
